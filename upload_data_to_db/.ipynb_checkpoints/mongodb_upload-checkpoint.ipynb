{
 "cells": [
  {
   "cell_type": "code",
   "execution_count": 1,
   "id": "bf1c4905-c14b-452c-8b51-2409b5c938d5",
   "metadata": {},
   "outputs": [],
   "source": [
    "import os\n",
    "from database_connect.databases.mongodb import MongoIO as mongo"
   ]
  },
  {
   "cell_type": "code",
   "execution_count": 7,
   "id": "b77d9fea-760b-4791-97a3-966437242310",
   "metadata": {},
   "outputs": [],
   "source": [
    "from dotenv import load_dotenv"
   ]
  },
  {
   "cell_type": "code",
   "execution_count": 10,
   "id": "ee0e3c85-5e50-4fa5-b9d9-04fcdd8e892f",
   "metadata": {},
   "outputs": [],
   "source": [
    "client_url=os.getenv('MONGO_DB_URL')\n",
    "database_name = \"insurance\""
   ]
  },
  {
   "cell_type": "code",
   "execution_count": 11,
   "id": "3247f774-31c1-4c6a-89eb-688294986d7b",
   "metadata": {},
   "outputs": [],
   "source": [
    "def upload_files_to_mongodb(\n",
    "    mongo_client_con_string,\n",
    "    database_name,\n",
    "    datasets_dir_name):\n",
    "  \n",
    "  for file in os.listdir(datasets_dir_name):\n",
    "    if file.endswith('.csv'):\n",
    "      file_name = file.split('.')[0]\n",
    "\n",
    "      mongo_connection = mongo(\n",
    "          client_url = mongo_client_con_string,\n",
    "          database_name= database_name,\n",
    "          collection_name= file_name\n",
    "      )\n",
    "\n",
    "      file_path = os.path.join(datasets_dir_name, file)\n",
    "      print(file_path)\n",
    "      mongo_connection.bulk_insert(file_path)\n",
    "      print(f\"{file_name} is uploaded to mongodb\")"
   ]
  },
  {
   "cell_type": "code",
   "execution_count": 12,
   "id": "777dbae3-70cd-4f22-94f8-dcbbb57b94c5",
   "metadata": {},
   "outputs": [
    {
     "name": "stdout",
     "output_type": "stream",
     "text": [
      "C:\\Users\\madhu\\pendrive\\myfiles\\Data science Pro\\insurance premium prediction\\upload_data_to_db\\insurance.csv\n",
      "insurance is uploaded to mongodb\n"
     ]
    }
   ],
   "source": [
    "upload_files_to_mongodb(\n",
    "    mongo_client_con_string= client_url,\n",
    "    database_name = database_name,\n",
    "    datasets_dir_name= r\"C:\\Users\\madhu\\pendrive\\myfiles\\Data science Pro\\insurance premium prediction\\upload_data_to_db\")"
   ]
  },
  {
   "cell_type": "code",
   "execution_count": null,
   "id": "7e2ff064-6e01-4493-bed6-c0b3edd7544d",
   "metadata": {},
   "outputs": [],
   "source": []
  }
 ],
 "metadata": {
  "kernelspec": {
   "display_name": "Python 3 (ipykernel)",
   "language": "python",
   "name": "python3"
  },
  "language_info": {
   "codemirror_mode": {
    "name": "ipython",
    "version": 3
   },
   "file_extension": ".py",
   "mimetype": "text/x-python",
   "name": "python",
   "nbconvert_exporter": "python",
   "pygments_lexer": "ipython3",
   "version": "3.11.7"
  }
 },
 "nbformat": 4,
 "nbformat_minor": 5
}
